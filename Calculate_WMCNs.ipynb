{
  "nbformat": 4,
  "nbformat_minor": 0,
  "metadata": {
    "colab": {
      "name": "Calculate_WMCNs.ipynb",
      "provenance": [],
      "authorship_tag": "ABX9TyP8CNLsa2LyU10jk4rWT8zW",
      "include_colab_link": true
    },
    "kernelspec": {
      "name": "python3",
      "display_name": "Python 3"
    },
    "language_info": {
      "name": "python"
    }
  },
  "cells": [
    {
      "cell_type": "markdown",
      "metadata": {
        "id": "view-in-github",
        "colab_type": "text"
      },
      "source": [
        "<a href=\"https://colab.research.google.com/github/clare-abreu/ocean_temperature_microbes/blob/main/Calculate_WMCNs.ipynb\" target=\"_parent\"><img src=\"https://colab.research.google.com/assets/colab-badge.svg\" alt=\"Open In Colab\"/></a>"
      ]
    },
    {
      "cell_type": "markdown",
      "source": [
        "This code calculates the weighted mean copy numbers of all of the datasets used in [Abreu$^*$ & Dal Bello$^*$ et. al.](https://www.biorxiv.org/content/10.1101/2022.07.13.499956v1)"
      ],
      "metadata": {
        "id": "gocb6K04CGTM"
      }
    },
    {
      "cell_type": "code",
      "source": [
        "# Import required modules and specify plotting parameters:\n",
        "\n",
        "import matplotlib.pyplot as plt\n",
        "import numpy as np\n",
        "import pandas as pd\n",
        "from numpy import loadtxt\n",
        "from scipy import stats\n",
        "from scipy.integrate import odeint\n",
        "\n",
        "SMALL_SIZE = 14\n",
        "MEDIUM_SIZE = 16\n",
        "BIGGER_SIZE = 18\n",
        "\n",
        "plt.rc('font', size=SMALL_SIZE)          # controls default text sizes\n",
        "plt.rc('axes', titlesize=SMALL_SIZE)     # fontsize of the axes title\n",
        "plt.rc('axes', labelsize=MEDIUM_SIZE)    # fontsize of the x and y labels\n",
        "plt.rc('xtick', labelsize=SMALL_SIZE)    # fontsize of the tick labels\n",
        "plt.rc('ytick', labelsize=SMALL_SIZE)    # fontsize of the tick labels\n",
        "plt.rc('legend', fontsize=SMALL_SIZE)    # legend fontsize\n",
        "plt.rc('figure', titlesize=BIGGER_SIZE)  # fontsize of the figure title"
      ],
      "metadata": {
        "id": "WX1_APoTB-Y-"
      },
      "execution_count": 4,
      "outputs": []
    },
    {
      "cell_type": "code",
      "source": [
        "def calc_wmcn_only(this_data,data_path):\n",
        "  # This function takes in a metadata dataframe for a particular dataset, which includes \n",
        "  # taxa abundances and copy numbers, and calculates the weighted mean copy number (WMCN)\n",
        "  # and adds it to the metadata dataframe.\n",
        "\n",
        "  df_tax = pd.read_csv(f'{data_path}{this_data}_generic_data.csv', index_col=0)\n",
        "  df_meta = pd.read_csv(f'{data_path}{this_data}_generic_metadata.csv', index_col=0)\n",
        "\n",
        "  All_samples = df_meta.index.tolist()\n",
        "  All_OTUs = df_tax.index.tolist()\n",
        "\n",
        "  df_meta['WMCN'] = np.nan\n",
        "  df_meta['WMCN, no SAR11'] = np.nan\n",
        "  df_meta['WMCN, no CN1'] = np.nan\n",
        "  df_meta['WMCN, Heterotrophs'] = np.nan\n",
        "\n",
        "  #Exclude SAR11_clade from Order:\n",
        "  df_tax_nosar11 = df_tax[df_tax['Order']!='SAR11_clade'].copy()\n",
        "  df_tax_nosar11 = df_tax_nosar11[df_tax_nosar11['Order']!='SAR11 clade'].copy()\n",
        "  df_tax_nosar11 = df_tax_nosar11[df_tax_nosar11['Order']!='Pelagibacterales'].copy()\n",
        "  df_tax_noCN1 = df_tax[df_tax['Copy Number']>1].copy()\n",
        "  df_tax_hetero = df_tax[df_tax['Phototroph']==0].copy()\n",
        "\n",
        "  # Compute WMCNs\n",
        "  df_tax_c = df_tax[~df_tax['Copy Number'].isna()]\n",
        "  df_tax_nosar11_c = df_tax_nosar11[~df_tax_nosar11['Copy Number'].isna()]\n",
        "  df_tax_noCN1_c = df_tax_noCN1[~df_tax_noCN1['Copy Number'].isna()]\n",
        "  df_tax_hetero_c = df_tax_hetero[~df_tax_hetero['Copy Number'].isna()]\n",
        "  \n",
        "  for k in range(len(All_samples)):\n",
        "      this_sample = All_samples[k]\n",
        "      if this_sample in df_tax.columns.tolist():\n",
        "          this_WMCN = np.sum(df_tax_c[this_sample])/np.sum(df_tax_c[this_sample]/df_tax_c['Copy Number'])\n",
        "          df_meta.loc[this_sample,'WMCN'] = this_WMCN\n",
        "\n",
        "  for k in range(len(All_samples)):\n",
        "      this_sample = All_samples[k]\n",
        "      if this_sample in df_tax.columns.tolist():\n",
        "          this_WMCN_nosar11 = np.sum(df_tax_nosar11_c[this_sample])/np.sum(df_tax_nosar11_c[this_sample]/df_tax_nosar11_c['Copy Number'])\n",
        "          df_meta.loc[this_sample,'WMCN, no SAR11'] = this_WMCN_nosar11\n",
        "          \n",
        "  for k in range(len(All_samples)):\n",
        "      this_sample = All_samples[k]\n",
        "      if this_sample in df_tax.columns.tolist():\n",
        "          this_WMCN_noCN1 = np.sum(df_tax_noCN1_c[this_sample])/np.sum(df_tax_noCN1_c[this_sample]/df_tax_noCN1_c['Copy Number'])\n",
        "          df_meta.loc[this_sample,'WMCN, no CN1'] = this_WMCN_noCN1\n",
        "          \n",
        "  for k in range(len(All_samples)):\n",
        "      this_sample = All_samples[k]\n",
        "      if this_sample in df_tax.columns.tolist():\n",
        "          this_WMCN_hetero = np.sum(df_tax_hetero_c[this_sample])/np.sum(df_tax_hetero_c[this_sample]/df_tax_hetero_c['Copy Number'])\n",
        "          df_meta.loc[this_sample,'WMCN, Heterotrophs'] = this_WMCN_hetero\n",
        "          \n",
        "  return(df_meta)"
      ],
      "metadata": {
        "id": "kRDOIkpGG2ET"
      },
      "execution_count": 7,
      "outputs": []
    },
    {
      "cell_type": "code",
      "source": [
        ""
      ],
      "metadata": {
        "id": "7R4OZcsWG2tN"
      },
      "execution_count": null,
      "outputs": []
    }
  ]
}